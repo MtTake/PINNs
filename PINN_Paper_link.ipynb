{
  "nbformat": 4,
  "nbformat_minor": 0,
  "metadata": {
    "colab": {
      "provenance": [],
      "authorship_tag": "ABX9TyOUEiDB5pRpiMAV36Gev5qv",
      "include_colab_link": true
    },
    "kernelspec": {
      "name": "python3",
      "display_name": "Python 3"
    },
    "language_info": {
      "name": "python"
    }
  },
  "cells": [
    {
      "cell_type": "markdown",
      "metadata": {
        "id": "view-in-github",
        "colab_type": "text"
      },
      "source": [
        "<a href=\"https://colab.research.google.com/github/MtTake/PINNs/blob/main/PINN_Paper_link.ipynb\" target=\"_parent\"><img src=\"https://colab.research.google.com/assets/colab-badge.svg\" alt=\"Open In Colab\"/></a>"
      ]
    },
    {
      "cell_type": "markdown",
      "source": [
        "# PINN 論文リンク\n",
        "\n",
        "- **Adeep learning framework for solution and discovery in solid mechanics** \\\\\n",
        " Ehsan Haghighat (Massachusetts Institute of Technology, Cambridge, MA) \\\\\n",
        " https://arxiv.org/pdf/2003.02751 \\\\\n",
        "\n",
        "- **Effective data sampling strategies and boundary condition constraints of\n",
        " physics-informed neural networks for identifying material properties in solid mechanics** \\\\\n",
        " W. Wu (Children’s Hospital of Philadelphia, Philadelphia, PA) \\\\\n",
        " https://arxiv.org/pdf/2211.15423 \\\\\n",
        "\n",
        "- **Physics-aware deep learning framework for linear elasticity** \\\\\n",
        " Arunabha M. Roy (Aerospace Engineering, University of Michigan, Ann Arbor, MI) \\\\\n",
        " https://arxiv.org/pdf/2302.09668 \\\\\n",
        "\n",
        "- **Physics-informed neural networks for modeling dynamic linear elasticity** \\\\\n",
        " Vijay Kag (Bosch Research and Technology Center- Bangalore, India) \\\\\n",
        " https://arxiv.org/pdf/2312.15175 \\\\\n",
        "\n",
        "\n",
        "## ACM degital Library\n",
        " [Neural Network](https://dl.acm.org/journal/nene)\n",
        "- **Deep learning-accelerated computational framework based on Physics Informed Neural Network for the solution of linear elasticity** \\\\\n",
        " https://dl.acm.org/doi/10.1016/j.neunet.2023.03.014 \\\\\n",
        "\n",
        "## Science Direct\n",
        " [Engineering Applications of Artificial Intelligence]()\n",
        "- **A data-driven physics-constrained deep learning computational framework for solving von Mises plasticity** \\\\\n",
        " Arunabha M. Roy \\\\\n",
        " https://www.sciencedirect.com/science/article/abs/pii/S0952197623002336 \\\\\n"
      ],
      "metadata": {
        "id": "cIjzstBmug9L"
      }
    },
    {
      "cell_type": "code",
      "source": [],
      "metadata": {
        "id": "wwSA-a_DvC5D"
      },
      "execution_count": null,
      "outputs": []
    }
  ]
}