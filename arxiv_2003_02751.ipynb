{
  "nbformat": 4,
  "nbformat_minor": 0,
  "metadata": {
    "colab": {
      "provenance": [],
      "toc_visible": true,
      "authorship_tag": "ABX9TyMOlTL68UKxCHKK3KGy8p4P",
      "include_colab_link": true
    },
    "kernelspec": {
      "name": "python3",
      "display_name": "Python 3"
    },
    "language_info": {
      "name": "python"
    }
  },
  "cells": [
    {
      "cell_type": "markdown",
      "metadata": {
        "id": "view-in-github",
        "colab_type": "text"
      },
      "source": [
        "<a href=\"https://colab.research.google.com/github/MtTake/PINNs/blob/main/arxiv_2003_02751.ipynb\" target=\"_parent\"><img src=\"https://colab.research.google.com/assets/colab-badge.svg\" alt=\"Open In Colab\"/></a>"
      ]
    },
    {
      "cell_type": "markdown",
      "source": [
        "# **Adeep learning framework for solution and discovery in solid mechanics**  \n",
        " Ehsan Haghighata, Maziar Raissib, Adrian Mourec, Hector Gomezc, Ruben Juanes  \n",
        "\n",
        "# Abstract  \n",
        "PINNとして知られる深層学習を、固体力学の学習と発見へ応用した内容を紹介.  \n",
        "線形弾性への適用を詳細に検討し、フォン・ミーゼスの弾塑性を示す例を通じて非線形問題への拡張を説明.  \n",
        "DNNは、フィールド変数をより正確に表現するマルチネットワークモデルを提案.  \n",
        "\n",
        "\n"
      ],
      "metadata": {
        "id": "d_MUqLUGu0Hl"
      }
    },
    {
      "cell_type": "markdown",
      "source": [
        "# 1. Introduction"
      ],
      "metadata": {
        "id": "HunBjnZIkXtg"
      }
    },
    {
      "cell_type": "markdown",
      "source": [
        "#  2. Physics-Informed Neural Networks: Linear Elasticity  \n",
        "##  2.1 Linear elasticity  \n",
        "\n",
        "- 運動量バランス、構成モデル、および運動学的関係を表す方程式  \n",
        "\n",
        "\\begin{equation}\n",
        "\\begin{split}\n",
        " \\sigma_{ij,j} + f_i &=0, \\\\\n",
        " \\sigma_{ij} &= \\lambda \\delta_{ij}\\varepsilon_{kk} + 2\\mu\\varepsilon_{ij}, \\\\\n",
        " \\varepsilon_{ij} &= \\frac{1}{2}\\left(u_{i,j} + u_{j,i}\\right).\n",
        "\\end{split}\n",
        "\\end{equation}  \n",
        "\n",
        "- $\\sigma_{ij}$ は、Cauchy 応力テンソル. 2次元問題なので、$i,j=1,2$ (or $i,j=x,y$). $u_i$ は変位. $\\varepsilon_{ij}$ は微小応力テンソル. $\\delta_{ij}$ はクロネッカデルタ. Lam\\'e のパラメータ $\\lambda$ と $\\mu$ は、PINNで推量される量.  \n",
        "\n",
        "## 2.2 Introduction to Physics-Informed Neural Networks  \n",
        "\n",
        "-  $L$-層のニューラルネットワークで、入力 $\\mathbf{x}$, 出力 $\\mathbf{y}$, ネットワークのパラメータを $\\mathbf{W}, \\mathbf{b}とし、$$\\mathcal{N}(\\mathbf{x}; \\mathbf{W}, \\mathbf{b}):\\mathbb{R}^{d_{\\mathbf{x}}}\\rightarrow \\mathbb{R}^{d_{\\mathbf{y}}}$ .  \n",
        "\n",
        "\\begin{equation}\n",
        "    \\mathbf{z}^{l} = \\sigma^{l} \\left( \\mathbf{W}^{l} \\mathbf{z}^{l-1} + \\mathbf{b}^{l} \\right), \\quad l=1,\\dots,L,\n",
        "\\end{equation}  \n",
        "\n",
        "- $\\sigma^l$ は活性化関数. 3つの隠れ層を持ち、活性化関数 $\\sigma^l = \\tanh$の場合、  \n",
        "\n",
        "\\begin{equation}\n",
        "\\begin{split}\n",
        "    \\mathbf{z}^1(\\mathbf{x}) &= \\tanh(\\mathbf{W}^0 \\mathbf{x} + \\mathbf{b}^0), \\\\\n",
        "    \\mathbf{z}^2(\\mathbf{x}) &= \\tanh(\\mathbf{W}^1 \\mathbf{z}^1 + \\mathbf{b}^1), \\\\\n",
        "    \\mathbf{z}^3(\\mathbf{x}) &= \\tanh(\\mathbf{W}^2 \\mathbf{z}^2 + \\mathbf{b}^2),  \\\\\n",
        "    u(\\mathbf{x}) &= \\mathbf{W}^3 \\mathbf{z}^3 + \\mathbf{b}^3.\n",
        "\\end{split}\n",
        "\\end{equation}\n",
        "\n",
        "- 初期条件と境界条件を組み込んだロス関数  \n",
        "$\\partial \\Omega$ はドメイン境界、 $u_0-u_0^*$ は、$t=t_0$での初期条件、$0^*$ は任意の学習ポイントにおける微分関係 $\\mathcal{P}u$ の期待値.  \n",
        "$\\mathbf{x}_i$ を既知の空間座標点として、 $\\Omega$ 内の一般量 $g$ のノルム $|\\cdot|$ は、 $\\frac{1}{N}\\sum_{i=1}^{N}g(\\mathbf{x}_i)^2$  \n",
        "ロス関数は、\n",
        "\n",
        "\\begin{equation}\n",
        "    \\mathcal{L}=|u - u^*| + |\\mathcal{P}u - 0^*| + |u-u^*|_{\\partial \\Omega} + |u_0-u_0^*|.\n",
        "\\end{equation}\n",
        "\n",
        "##  2.3 Training PINN  \n",
        "- バッチサイズ 64\n",
        "- シャッフルによる 10,000 エポック\n",
        "- 500 の忍耐力 (patience)  \n",
        "忍耐力は主に非凸最適化を扱っており、データセットのロス関数の最小化から評価されるパラメーターに信頼性を構築するために、さまざまな開始点やさまざまな方向でトレーニングをテストする必要があるためである. 忍耐力は、オプティマイザーがトレーニングを停止するタイミングを制御するパラメーター.\n",
        "\n"
      ],
      "metadata": {
        "id": "3u90lP0zkcC3"
      }
    },
    {
      "cell_type": "markdown",
      "source": [
        "#  3. Illustrative Example and Discussion  \n",
        "## 3.1 Problem setup\n",
        "- 単位正方形上の弾性平面ひずみ問題(図1)を検討.  \n",
        "  体積力は以下のとおり\n",
        "\n",
        "\\begin{equation}\n",
        "\\begin{split}\n",
        "f_x &= \\lambda \\left[4\\pi^2 \\cos(2\\pi x) \\sin(\\pi y) - \\pi \\cos(\\pi x) Q y^3 \\right]  \t\t\t\t \\\\\n",
        "  ~ &+ \\mu \\left[9\\pi^2 \\cos(2\\pi x) \\sin(\\pi y) - \\pi \\cos(\\pi x) Q y^3 \\right]       \t\t\t\t \\\\\n",
        "f_y &= \\lambda \\left[-3\\sin(\\pi x) Qy^2 +2\\pi^2 \\sin(2\\pi x) \\cos(\\pi y) \\right]         \t\t\t \\\\\n",
        "  ~ &+ \\mu \\left[-6\\sin(\\pi x) Qy^2 +2\\pi^2\\sin(2\\pi x)\\cos(\\pi y) + \\pi^2\\sin(\\pi x) Q y^4/4 \\right].\n",
        "\\end{split}\n",
        "\\end{equation}\n",
        "\n",
        "\\\\\n",
        "- この問題の解析解は以下のとおり\n",
        "\n",
        "\\begin{alignat}{2}\n",
        "u_x(x,y)&=\\cos(2\\pi x) \\sin(\\pi y), \\\\\n",
        "u_y(x,y)&=\\sin(\\pi x) Qy^4/4.  \n",
        "\\end{alignat}\n",
        "\n",
        "<center>\n",
        "<img src=\"https://drive.google.com/uc?export=view&id=1-DB27YK0pIQus8Z9NI6tMSgiAZY6_fzZ\" width=\"300\" height=\"300\">\n",
        "</center>\n",
        "\n",
        "<div style=\"text-align: center;\">\n",
        " 図1\n",
        "</div>\n",
        "\n",
        "- 図2には$\\lambda=1$, $\\mu=0.5$, $Q=4$のときの解析解のプロットを示す.\n",
        "\n",
        "<center>\n",
        "<img src=\"https://drive.google.com/uc?export=view&id=1-T2MtNQngIG70S6PkkjKgG9sVezpypMV\" width=\"550\" height=\"500\">\n",
        "</center>\n",
        "\n",
        "<div style=\"text-align: center;\">\n",
        " 図2\n",
        "</div>\n",
        "\n",
        "## 3.2 Neural Network setup  \n",
        "- ネットワークアーキテクチャはいくつか考えられる. 入力特徴量 (変数) は空間座標 $(x,y)$ である. 出力は $(u_x,u_y)$ のように 2 つの出力を持つネットワークが考えられる. 他には、それぞれ $u_x$ と $u_y$ に関連付けられた、それぞれ1つの出力のみを持つ2つの独立したネットワークを持つものである(図3).  \n",
        "\n",
        "<center>\n",
        "<img src=\"https://drive.google.com/uc?export=view&id=1-i0WEFwKS0hU8q7ZppQdcelNvKR_m9pi\" width=\"600\" height=\"250\">\n",
        "</center>\n",
        "\n",
        "<div style=\"text-align: center;\">\n",
        " 図3\n",
        "</div>\n",
        "\n",
        "- 我々のデータは各変数に別々のネットワークを使用すると、はるかに効果的な戦略が得られる.\n",
        "\n",
        "<center>\n",
        "<img src=\"https://drive.google.com/uc?export=view&id=1-KcOKGvdROV8W9enm5di3g9D1LtFIldY\" width=\"600\" height=\"350\">\n",
        "</center>\n",
        "\n",
        "<div style=\"text-align: center;\">\n",
        " 図4\n",
        "</div>\n",
        "\n",
        "- ロス関数は次のように定義  \n",
        "アスタリスク付きは与えられた量.  \n",
        "アステリスクなしはネットワークから直接出力される量 (e.g., $u_x$ or $\\sigma_{xx}$) または、 自動微分で得られた量 (e.g., $\\varepsilon_{xx}=u_{x,x}$).  \n",
        "$f_x^*$ と $f_y^*$ は $f_i^*=-\\sigma_{ij,j}^*$ でえられる物体力.   \n",
        "\n",
        "\\begin{equation}\n",
        "\\begin{split}\n",
        "\\mathcal{L} &= |u_x-u_x^*| + |u_y-u^*_y| + |\\sigma_{xx}-\\sigma_{xx}^*| + |\\sigma_{yy}-\\sigma_{yy}^*| + |\\sigma_{xy}-\\sigma_{xy}^*| \\\\\n",
        "            &+|\\sigma_{xx,x} + \\sigma_{xy,y} + f_x^*| + |\\sigma_{xy,x} + \\sigma_{yy,y} + f_y^*|        \\\\\n",
        "            &+ |(\\lambda+2\\mu)\\varepsilon_{xx} + \\lambda \\varepsilon_{yy} - \\sigma_{xx}| + |(\\lambda+2\\mu) \\varepsilon_{yy} + \\lambda \\varepsilon_{xx} - \\sigma_{yy}| + |2\\mu\\varepsilon_{xy} - \\sigma_{xy}|.    \n",
        "\\end{split}\n",
        "\\end{equation}\n",
        "\n",
        "- PDE のソリューションの場合、 $\\lambda$ と $\\mu$ はネットワーク内で固定値.  \n",
        "パラメータ同定ではトレーニングフェーズ中に変化するネットワークパラメータとして扱う.  \n",
        "- 物理学に基づいた深層学習と科学計算のための高水準のKerasラッパーであるSciANN フレームワークを使用して問題を設定.  \n",
        "前述のネットワークの選択肢をすべてSciANNで試すことは、最小限のコーディングで簡単に行える.  "
      ],
      "metadata": {
        "id": "nQ-b-aiMj9VL"
      }
    },
    {
      "cell_type": "markdown",
      "source": [],
      "metadata": {
        "id": "00VRXGH4-7L1"
      }
    }
  ]
}